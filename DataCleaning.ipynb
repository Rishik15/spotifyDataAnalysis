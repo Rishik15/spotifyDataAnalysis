{
 "cells": [
  {
   "cell_type": "markdown",
   "id": "0a37eb26-3a3e-43aa-b4c5-ad88abd0cbc5",
   "metadata": {},
   "source": [
    "## This notebook focuses on cleaning spotify_top_songs_audio_features.csv, sourced from Kaggle. Our primary objectives are to handle missing values, correct data types, remove duplicates and checking if there are any out of bound values to prepare for detailed analysis."
   ]
  },
  {
   "cell_type": "code",
   "execution_count": 1,
   "id": "cb06f7c0-8a9d-4255-9980-7f2762b3a5ea",
   "metadata": {},
   "outputs": [],
   "source": [
    "import pandas as pd"
   ]
  },
  {
   "cell_type": "code",
   "execution_count": 2,
   "id": "084a8752-0974-4ed8-b6e6-ea1e49016eac",
   "metadata": {},
   "outputs": [],
   "source": [
    "pd.set_option('display.max_columns' , None) \n",
    "pd.set_option('display.max_rows' , None)"
   ]
  },
  {
   "cell_type": "code",
   "execution_count": 3,
   "id": "037b5cdd-7453-4535-847d-74d473d045ab",
   "metadata": {},
   "outputs": [
    {
     "data": {
      "text/html": [
       "<div>\n",
       "<style scoped>\n",
       "    .dataframe tbody tr th:only-of-type {\n",
       "        vertical-align: middle;\n",
       "    }\n",
       "\n",
       "    .dataframe tbody tr th {\n",
       "        vertical-align: top;\n",
       "    }\n",
       "\n",
       "    .dataframe thead th {\n",
       "        text-align: right;\n",
       "    }\n",
       "</style>\n",
       "<table border=\"1\" class=\"dataframe\">\n",
       "  <thead>\n",
       "    <tr style=\"text-align: right;\">\n",
       "      <th></th>\n",
       "      <th>id</th>\n",
       "      <th>artist_names</th>\n",
       "      <th>track_name</th>\n",
       "      <th>source</th>\n",
       "      <th>key</th>\n",
       "      <th>mode</th>\n",
       "      <th>time_signature</th>\n",
       "      <th>danceability</th>\n",
       "      <th>energy</th>\n",
       "      <th>speechiness</th>\n",
       "      <th>acousticness</th>\n",
       "      <th>instrumentalness</th>\n",
       "      <th>liveness</th>\n",
       "      <th>valence</th>\n",
       "      <th>loudness</th>\n",
       "      <th>tempo</th>\n",
       "      <th>duration_ms</th>\n",
       "      <th>weeks_on_chart</th>\n",
       "      <th>streams</th>\n",
       "    </tr>\n",
       "  </thead>\n",
       "  <tbody>\n",
       "    <tr>\n",
       "      <th>0</th>\n",
       "      <td>000xQL6tZNLJzIrtIgxqSl</td>\n",
       "      <td>ZAYN, PARTYNEXTDOOR</td>\n",
       "      <td>Still Got Time (feat. PARTYNEXTDOOR)</td>\n",
       "      <td>RCA Records Label</td>\n",
       "      <td>G</td>\n",
       "      <td>Major</td>\n",
       "      <td>4 beats</td>\n",
       "      <td>0.748</td>\n",
       "      <td>0.627</td>\n",
       "      <td>0.0639</td>\n",
       "      <td>0.13100</td>\n",
       "      <td>0.0</td>\n",
       "      <td>0.0852</td>\n",
       "      <td>0.524</td>\n",
       "      <td>-6.029</td>\n",
       "      <td>120.963</td>\n",
       "      <td>188491</td>\n",
       "      <td>17</td>\n",
       "      <td>107527761</td>\n",
       "    </tr>\n",
       "    <tr>\n",
       "      <th>1</th>\n",
       "      <td>003eoIwxETJujVWmNFMoZy</td>\n",
       "      <td>Alessia Cara</td>\n",
       "      <td>Growing Pains</td>\n",
       "      <td>Def Jam Recordings</td>\n",
       "      <td>C#/Db</td>\n",
       "      <td>Minor</td>\n",
       "      <td>4 beats</td>\n",
       "      <td>0.353</td>\n",
       "      <td>0.755</td>\n",
       "      <td>0.7330</td>\n",
       "      <td>0.08220</td>\n",
       "      <td>0.0</td>\n",
       "      <td>0.3900</td>\n",
       "      <td>0.437</td>\n",
       "      <td>-6.276</td>\n",
       "      <td>191.153</td>\n",
       "      <td>193680</td>\n",
       "      <td>2</td>\n",
       "      <td>9944865</td>\n",
       "    </tr>\n",
       "    <tr>\n",
       "      <th>2</th>\n",
       "      <td>003vvx7Niy0yvhvHt4a68B</td>\n",
       "      <td>The Killers</td>\n",
       "      <td>Mr. Brightside</td>\n",
       "      <td>Island Records</td>\n",
       "      <td>C#/Db</td>\n",
       "      <td>Major</td>\n",
       "      <td>4 beats</td>\n",
       "      <td>0.352</td>\n",
       "      <td>0.911</td>\n",
       "      <td>0.0747</td>\n",
       "      <td>0.00121</td>\n",
       "      <td>0.0</td>\n",
       "      <td>0.0995</td>\n",
       "      <td>0.236</td>\n",
       "      <td>-5.230</td>\n",
       "      <td>148.033</td>\n",
       "      <td>222973</td>\n",
       "      <td>125</td>\n",
       "      <td>512388123</td>\n",
       "    </tr>\n",
       "    <tr>\n",
       "      <th>3</th>\n",
       "      <td>00B7TZ0Xawar6NZ00JFomN</td>\n",
       "      <td>Cardi B, Chance the Rapper</td>\n",
       "      <td>Best Life (feat. Chance The Rapper)</td>\n",
       "      <td>Atlantic/KSR</td>\n",
       "      <td>A</td>\n",
       "      <td>Major</td>\n",
       "      <td>4 beats</td>\n",
       "      <td>0.620</td>\n",
       "      <td>0.625</td>\n",
       "      <td>0.5530</td>\n",
       "      <td>0.28700</td>\n",
       "      <td>0.0</td>\n",
       "      <td>0.3140</td>\n",
       "      <td>0.665</td>\n",
       "      <td>-7.438</td>\n",
       "      <td>167.911</td>\n",
       "      <td>284856</td>\n",
       "      <td>2</td>\n",
       "      <td>11985346</td>\n",
       "    </tr>\n",
       "    <tr>\n",
       "      <th>4</th>\n",
       "      <td>00Blm7zeNqgYLPtW6zg8cj</td>\n",
       "      <td>Post Malone, The Weeknd</td>\n",
       "      <td>One Right Now (with The Weeknd)</td>\n",
       "      <td>Republic Records</td>\n",
       "      <td>C#/Db</td>\n",
       "      <td>Major</td>\n",
       "      <td>4 beats</td>\n",
       "      <td>0.687</td>\n",
       "      <td>0.781</td>\n",
       "      <td>0.0530</td>\n",
       "      <td>0.03610</td>\n",
       "      <td>0.0</td>\n",
       "      <td>0.0755</td>\n",
       "      <td>0.688</td>\n",
       "      <td>-4.806</td>\n",
       "      <td>97.014</td>\n",
       "      <td>193507</td>\n",
       "      <td>30</td>\n",
       "      <td>301860377</td>\n",
       "    </tr>\n",
       "  </tbody>\n",
       "</table>\n",
       "</div>"
      ],
      "text/plain": [
       "                       id                artist_names  \\\n",
       "0  000xQL6tZNLJzIrtIgxqSl         ZAYN, PARTYNEXTDOOR   \n",
       "1  003eoIwxETJujVWmNFMoZy                Alessia Cara   \n",
       "2  003vvx7Niy0yvhvHt4a68B                 The Killers   \n",
       "3  00B7TZ0Xawar6NZ00JFomN  Cardi B, Chance the Rapper   \n",
       "4  00Blm7zeNqgYLPtW6zg8cj     Post Malone, The Weeknd   \n",
       "\n",
       "                             track_name              source    key   mode  \\\n",
       "0  Still Got Time (feat. PARTYNEXTDOOR)   RCA Records Label      G  Major   \n",
       "1                         Growing Pains  Def Jam Recordings  C#/Db  Minor   \n",
       "2                        Mr. Brightside      Island Records  C#/Db  Major   \n",
       "3   Best Life (feat. Chance The Rapper)        Atlantic/KSR      A  Major   \n",
       "4       One Right Now (with The Weeknd)    Republic Records  C#/Db  Major   \n",
       "\n",
       "  time_signature  danceability  energy  speechiness  acousticness  \\\n",
       "0        4 beats         0.748   0.627       0.0639       0.13100   \n",
       "1        4 beats         0.353   0.755       0.7330       0.08220   \n",
       "2        4 beats         0.352   0.911       0.0747       0.00121   \n",
       "3        4 beats         0.620   0.625       0.5530       0.28700   \n",
       "4        4 beats         0.687   0.781       0.0530       0.03610   \n",
       "\n",
       "   instrumentalness  liveness  valence  loudness    tempo  duration_ms  \\\n",
       "0               0.0    0.0852    0.524    -6.029  120.963       188491   \n",
       "1               0.0    0.3900    0.437    -6.276  191.153       193680   \n",
       "2               0.0    0.0995    0.236    -5.230  148.033       222973   \n",
       "3               0.0    0.3140    0.665    -7.438  167.911       284856   \n",
       "4               0.0    0.0755    0.688    -4.806   97.014       193507   \n",
       "\n",
       "   weeks_on_chart    streams  \n",
       "0              17  107527761  \n",
       "1               2    9944865  \n",
       "2             125  512388123  \n",
       "3               2   11985346  \n",
       "4              30  301860377  "
      ]
     },
     "execution_count": 3,
     "metadata": {},
     "output_type": "execute_result"
    }
   ],
   "source": [
    "spotify_df = pd.read_csv('spotify_top_songs_audio_features.csv')\n",
    "spotify_df.head()"
   ]
  },
  {
   "cell_type": "markdown",
   "id": "9f4f34d4-5c1c-4049-816c-512e570b80c8",
   "metadata": {},
   "source": [
    "## Data Cleaning and Preparation"
   ]
  },
  {
   "cell_type": "code",
   "execution_count": 4,
   "id": "8513513a-f758-4bae-b252-5c9b1738833e",
   "metadata": {},
   "outputs": [
    {
     "name": "stdout",
     "output_type": "stream",
     "text": [
      "<class 'pandas.core.frame.DataFrame'>\n",
      "RangeIndex: 6513 entries, 0 to 6512\n",
      "Data columns (total 19 columns):\n",
      " #   Column            Non-Null Count  Dtype  \n",
      "---  ------            --------------  -----  \n",
      " 0   id                6513 non-null   object \n",
      " 1   artist_names      6513 non-null   object \n",
      " 2   track_name        6513 non-null   object \n",
      " 3   source            6513 non-null   object \n",
      " 4   key               6513 non-null   object \n",
      " 5   mode              6513 non-null   object \n",
      " 6   time_signature    6513 non-null   object \n",
      " 7   danceability      6513 non-null   float64\n",
      " 8   energy            6513 non-null   float64\n",
      " 9   speechiness       6513 non-null   float64\n",
      " 10  acousticness      6513 non-null   float64\n",
      " 11  instrumentalness  6513 non-null   float64\n",
      " 12  liveness          6513 non-null   float64\n",
      " 13  valence           6513 non-null   float64\n",
      " 14  loudness          6513 non-null   float64\n",
      " 15  tempo             6513 non-null   float64\n",
      " 16  duration_ms       6513 non-null   int64  \n",
      " 17  weeks_on_chart    6513 non-null   int64  \n",
      " 18  streams           6513 non-null   int64  \n",
      "dtypes: float64(9), int64(3), object(7)\n",
      "memory usage: 966.9+ KB\n"
     ]
    }
   ],
   "source": [
    "spotify_df.info()"
   ]
  },
  {
   "cell_type": "code",
   "execution_count": 7,
   "id": "40da636e-6b10-4373-a5a1-b7673cfa5f2a",
   "metadata": {},
   "outputs": [
    {
     "data": {
      "text/plain": [
       "(6513, 19)"
      ]
     },
     "execution_count": 7,
     "metadata": {},
     "output_type": "execute_result"
    }
   ],
   "source": [
    "spotify_df.shape"
   ]
  },
  {
   "cell_type": "code",
   "execution_count": 8,
   "id": "c4690660-b409-45df-a59c-2f377e8d6c51",
   "metadata": {},
   "outputs": [
    {
     "data": {
      "text/plain": [
       "0"
      ]
     },
     "execution_count": 8,
     "metadata": {},
     "output_type": "execute_result"
    }
   ],
   "source": [
    "spotify_df['id'].duplicated().sum()"
   ]
  },
  {
   "cell_type": "code",
   "execution_count": 9,
   "id": "d60ff5e9-1d24-4580-8632-e58a87079912",
   "metadata": {},
   "outputs": [
    {
     "data": {
      "text/plain": [
       "id                  0\n",
       "artist_names        0\n",
       "track_name          0\n",
       "source              0\n",
       "key                 0\n",
       "mode                0\n",
       "time_signature      0\n",
       "danceability        0\n",
       "energy              0\n",
       "speechiness         0\n",
       "acousticness        0\n",
       "instrumentalness    0\n",
       "liveness            0\n",
       "valence             0\n",
       "loudness            0\n",
       "tempo               0\n",
       "duration_ms         0\n",
       "weeks_on_chart      0\n",
       "streams             0\n",
       "dtype: int64"
      ]
     },
     "execution_count": 9,
     "metadata": {},
     "output_type": "execute_result"
    }
   ],
   "source": [
    "spotify_df.isnull().sum()"
   ]
  },
  {
   "cell_type": "markdown",
   "id": "5dd01128-081f-447d-ac21-bcc3a0e542c8",
   "metadata": {},
   "source": [
    "#### Checking if any values exceed the limits defined to these columns."
   ]
  },
  {
   "cell_type": "code",
   "execution_count": 10,
   "id": "1bd1e77c-3205-46aa-9d25-76db659b4d49",
   "metadata": {},
   "outputs": [
    {
     "data": {
      "text/html": [
       "<div>\n",
       "<style scoped>\n",
       "    .dataframe tbody tr th:only-of-type {\n",
       "        vertical-align: middle;\n",
       "    }\n",
       "\n",
       "    .dataframe tbody tr th {\n",
       "        vertical-align: top;\n",
       "    }\n",
       "\n",
       "    .dataframe thead th {\n",
       "        text-align: right;\n",
       "    }\n",
       "</style>\n",
       "<table border=\"1\" class=\"dataframe\">\n",
       "  <thead>\n",
       "    <tr style=\"text-align: right;\">\n",
       "      <th></th>\n",
       "      <th>id</th>\n",
       "      <th>artist_names</th>\n",
       "      <th>track_name</th>\n",
       "      <th>source</th>\n",
       "      <th>key</th>\n",
       "      <th>mode</th>\n",
       "      <th>time_signature</th>\n",
       "      <th>danceability</th>\n",
       "      <th>energy</th>\n",
       "      <th>speechiness</th>\n",
       "      <th>acousticness</th>\n",
       "      <th>instrumentalness</th>\n",
       "      <th>liveness</th>\n",
       "      <th>valence</th>\n",
       "      <th>loudness</th>\n",
       "      <th>tempo</th>\n",
       "      <th>duration_ms</th>\n",
       "      <th>weeks_on_chart</th>\n",
       "      <th>streams</th>\n",
       "    </tr>\n",
       "  </thead>\n",
       "  <tbody>\n",
       "  </tbody>\n",
       "</table>\n",
       "</div>"
      ],
      "text/plain": [
       "Empty DataFrame\n",
       "Columns: [id, artist_names, track_name, source, key, mode, time_signature, danceability, energy, speechiness, acousticness, instrumentalness, liveness, valence, loudness, tempo, duration_ms, weeks_on_chart, streams]\n",
       "Index: []"
      ]
     },
     "execution_count": 10,
     "metadata": {},
     "output_type": "execute_result"
    }
   ],
   "source": [
    "columns = ['danceability', 'energy', 'speechiness', 'acousticness', 'instrumentalness', 'liveness', 'valence']\n",
    "query = \"or\".join([f\"({col} < 0) | ({col} > 1)\" for col in columns])\n",
    "spotify_df.query(query)"
   ]
  },
  {
   "cell_type": "code",
   "execution_count": 11,
   "id": "c785f91f-92c9-43e1-8155-c42cab8104e2",
   "metadata": {},
   "outputs": [],
   "source": [
    "query_loudness = \"(loudness < -60) | (loudness > 0)\"\n",
    "query_tempo = \"( tempo < 50) | (tempo > 220)\"\n",
    "\n",
    "spotify_df = spotify_df.drop(spotify_df.query(query_loudness or query_tempo).index)"
   ]
  },
  {
   "cell_type": "code",
   "execution_count": 13,
   "id": "c9248d8b-eead-44d9-a7f2-dac22e5fde04",
   "metadata": {},
   "outputs": [
    {
     "data": {
      "text/plain": [
       "(6509, 19)"
      ]
     },
     "execution_count": 13,
     "metadata": {},
     "output_type": "execute_result"
    }
   ],
   "source": [
    "spotify_df.shape"
   ]
  },
  {
   "cell_type": "code",
   "execution_count": 16,
   "id": "ba8f8afa-16a7-4ffe-abb8-011d76805f2b",
   "metadata": {},
   "outputs": [
    {
     "data": {
      "text/plain": [
       "key\n",
       "C#/Db    942\n",
       "C        705\n",
       "G        595\n",
       "B        567\n",
       "G#/Ab    553\n",
       "F        531\n",
       "A        523\n",
       "D        523\n",
       "F#/Gb    501\n",
       "A#/Bb    465\n",
       "E        424\n",
       "D#/Eb    180\n",
       "Name: count, dtype: int64"
      ]
     },
     "execution_count": 16,
     "metadata": {},
     "output_type": "execute_result"
    }
   ],
   "source": [
    "spotify_df['key'].value_counts()"
   ]
  },
  {
   "cell_type": "code",
   "execution_count": 17,
   "id": "a0c71e37-ea76-4a99-bd3d-08bb03f9465b",
   "metadata": {},
   "outputs": [
    {
     "data": {
      "text/plain": [
       "mode\n",
       "Major    3745\n",
       "Minor    2764\n",
       "Name: count, dtype: int64"
      ]
     },
     "execution_count": 17,
     "metadata": {},
     "output_type": "execute_result"
    }
   ],
   "source": [
    "spotify_df['mode'].value_counts()"
   ]
  },
  {
   "cell_type": "markdown",
   "id": "736190df-6b4a-4b3e-83a4-8d31d836cd38",
   "metadata": {},
   "source": [
    "#### Changing the value '1' in time_signature column to '1 beat' for better understanding"
   ]
  },
  {
   "cell_type": "code",
   "execution_count": 18,
   "id": "0099dea2-7a6b-4e91-bbf6-97ea0311eff8",
   "metadata": {},
   "outputs": [
    {
     "data": {
      "text/plain": [
       "time_signature\n",
       "4 beats    6053\n",
       "3 beats     324\n",
       "5 beats     107\n",
       "1            25\n",
       "Name: count, dtype: int64"
      ]
     },
     "execution_count": 18,
     "metadata": {},
     "output_type": "execute_result"
    }
   ],
   "source": [
    "spotify_df['time_signature'].value_counts()"
   ]
  },
  {
   "cell_type": "code",
   "execution_count": 22,
   "id": "55b561d1-8841-4dae-9243-07953558ff03",
   "metadata": {},
   "outputs": [],
   "source": [
    "spotify_df.loc[spotify_df['time_signature'] == '1', 'time_signature'] = '1 beats'"
   ]
  },
  {
   "cell_type": "code",
   "execution_count": 23,
   "id": "b0c389f6-4ae7-41c0-895f-d3b8648dfa26",
   "metadata": {},
   "outputs": [
    {
     "data": {
      "text/plain": [
       "time_signature\n",
       "4 beats    6053\n",
       "3 beats     324\n",
       "5 beats     107\n",
       "1 beats      25\n",
       "Name: count, dtype: int64"
      ]
     },
     "execution_count": 23,
     "metadata": {},
     "output_type": "execute_result"
    }
   ],
   "source": [
    "spotify_df['time_signature'].value_counts()"
   ]
  },
  {
   "cell_type": "markdown",
   "id": "7773a51d-76fd-4f51-b1b7-f7f2496551a1",
   "metadata": {},
   "source": [
    "#### Inserting a column with duration in hh\\:mm\\:ss format and dropping the column with duration in ms"
   ]
  },
  {
   "cell_type": "code",
   "execution_count": 42,
   "id": "c09667bd-2beb-4def-9902-7fe69e97839e",
   "metadata": {},
   "outputs": [
    {
     "data": {
      "text/html": [
       "<div>\n",
       "<style scoped>\n",
       "    .dataframe tbody tr th:only-of-type {\n",
       "        vertical-align: middle;\n",
       "    }\n",
       "\n",
       "    .dataframe tbody tr th {\n",
       "        vertical-align: top;\n",
       "    }\n",
       "\n",
       "    .dataframe thead th {\n",
       "        text-align: right;\n",
       "    }\n",
       "</style>\n",
       "<table border=\"1\" class=\"dataframe\">\n",
       "  <thead>\n",
       "    <tr style=\"text-align: right;\">\n",
       "      <th></th>\n",
       "      <th>id</th>\n",
       "      <th>artist_names</th>\n",
       "      <th>track_name</th>\n",
       "      <th>source</th>\n",
       "      <th>key</th>\n",
       "      <th>mode</th>\n",
       "      <th>time_signature</th>\n",
       "      <th>danceability</th>\n",
       "      <th>energy</th>\n",
       "      <th>speechiness</th>\n",
       "      <th>acousticness</th>\n",
       "      <th>instrumentalness</th>\n",
       "      <th>liveness</th>\n",
       "      <th>valence</th>\n",
       "      <th>loudness</th>\n",
       "      <th>tempo</th>\n",
       "      <th>weeks_on_chart</th>\n",
       "      <th>streams</th>\n",
       "      <th>duration</th>\n",
       "    </tr>\n",
       "  </thead>\n",
       "  <tbody>\n",
       "    <tr>\n",
       "      <th>0</th>\n",
       "      <td>000xQL6tZNLJzIrtIgxqSl</td>\n",
       "      <td>ZAYN, PARTYNEXTDOOR</td>\n",
       "      <td>Still Got Time (feat. PARTYNEXTDOOR)</td>\n",
       "      <td>RCA Records Label</td>\n",
       "      <td>G</td>\n",
       "      <td>Major</td>\n",
       "      <td>4 beats</td>\n",
       "      <td>0.748</td>\n",
       "      <td>0.627</td>\n",
       "      <td>0.0639</td>\n",
       "      <td>0.13100</td>\n",
       "      <td>0.0</td>\n",
       "      <td>0.0852</td>\n",
       "      <td>0.524</td>\n",
       "      <td>-6.029</td>\n",
       "      <td>120.963</td>\n",
       "      <td>17</td>\n",
       "      <td>107527761</td>\n",
       "      <td>0 days 00:03:08.491000</td>\n",
       "    </tr>\n",
       "    <tr>\n",
       "      <th>1</th>\n",
       "      <td>003eoIwxETJujVWmNFMoZy</td>\n",
       "      <td>Alessia Cara</td>\n",
       "      <td>Growing Pains</td>\n",
       "      <td>Def Jam Recordings</td>\n",
       "      <td>C#/Db</td>\n",
       "      <td>Minor</td>\n",
       "      <td>4 beats</td>\n",
       "      <td>0.353</td>\n",
       "      <td>0.755</td>\n",
       "      <td>0.7330</td>\n",
       "      <td>0.08220</td>\n",
       "      <td>0.0</td>\n",
       "      <td>0.3900</td>\n",
       "      <td>0.437</td>\n",
       "      <td>-6.276</td>\n",
       "      <td>191.153</td>\n",
       "      <td>2</td>\n",
       "      <td>9944865</td>\n",
       "      <td>0 days 00:03:13.680000</td>\n",
       "    </tr>\n",
       "    <tr>\n",
       "      <th>2</th>\n",
       "      <td>003vvx7Niy0yvhvHt4a68B</td>\n",
       "      <td>The Killers</td>\n",
       "      <td>Mr. Brightside</td>\n",
       "      <td>Island Records</td>\n",
       "      <td>C#/Db</td>\n",
       "      <td>Major</td>\n",
       "      <td>4 beats</td>\n",
       "      <td>0.352</td>\n",
       "      <td>0.911</td>\n",
       "      <td>0.0747</td>\n",
       "      <td>0.00121</td>\n",
       "      <td>0.0</td>\n",
       "      <td>0.0995</td>\n",
       "      <td>0.236</td>\n",
       "      <td>-5.230</td>\n",
       "      <td>148.033</td>\n",
       "      <td>125</td>\n",
       "      <td>512388123</td>\n",
       "      <td>0 days 00:03:42.973000</td>\n",
       "    </tr>\n",
       "    <tr>\n",
       "      <th>3</th>\n",
       "      <td>00B7TZ0Xawar6NZ00JFomN</td>\n",
       "      <td>Cardi B, Chance the Rapper</td>\n",
       "      <td>Best Life (feat. Chance The Rapper)</td>\n",
       "      <td>Atlantic/KSR</td>\n",
       "      <td>A</td>\n",
       "      <td>Major</td>\n",
       "      <td>4 beats</td>\n",
       "      <td>0.620</td>\n",
       "      <td>0.625</td>\n",
       "      <td>0.5530</td>\n",
       "      <td>0.28700</td>\n",
       "      <td>0.0</td>\n",
       "      <td>0.3140</td>\n",
       "      <td>0.665</td>\n",
       "      <td>-7.438</td>\n",
       "      <td>167.911</td>\n",
       "      <td>2</td>\n",
       "      <td>11985346</td>\n",
       "      <td>0 days 00:04:44.856000</td>\n",
       "    </tr>\n",
       "    <tr>\n",
       "      <th>4</th>\n",
       "      <td>00Blm7zeNqgYLPtW6zg8cj</td>\n",
       "      <td>Post Malone, The Weeknd</td>\n",
       "      <td>One Right Now (with The Weeknd)</td>\n",
       "      <td>Republic Records</td>\n",
       "      <td>C#/Db</td>\n",
       "      <td>Major</td>\n",
       "      <td>4 beats</td>\n",
       "      <td>0.687</td>\n",
       "      <td>0.781</td>\n",
       "      <td>0.0530</td>\n",
       "      <td>0.03610</td>\n",
       "      <td>0.0</td>\n",
       "      <td>0.0755</td>\n",
       "      <td>0.688</td>\n",
       "      <td>-4.806</td>\n",
       "      <td>97.014</td>\n",
       "      <td>30</td>\n",
       "      <td>301860377</td>\n",
       "      <td>0 days 00:03:13.507000</td>\n",
       "    </tr>\n",
       "  </tbody>\n",
       "</table>\n",
       "</div>"
      ],
      "text/plain": [
       "                       id                artist_names  \\\n",
       "0  000xQL6tZNLJzIrtIgxqSl         ZAYN, PARTYNEXTDOOR   \n",
       "1  003eoIwxETJujVWmNFMoZy                Alessia Cara   \n",
       "2  003vvx7Niy0yvhvHt4a68B                 The Killers   \n",
       "3  00B7TZ0Xawar6NZ00JFomN  Cardi B, Chance the Rapper   \n",
       "4  00Blm7zeNqgYLPtW6zg8cj     Post Malone, The Weeknd   \n",
       "\n",
       "                             track_name              source    key   mode  \\\n",
       "0  Still Got Time (feat. PARTYNEXTDOOR)   RCA Records Label      G  Major   \n",
       "1                         Growing Pains  Def Jam Recordings  C#/Db  Minor   \n",
       "2                        Mr. Brightside      Island Records  C#/Db  Major   \n",
       "3   Best Life (feat. Chance The Rapper)        Atlantic/KSR      A  Major   \n",
       "4       One Right Now (with The Weeknd)    Republic Records  C#/Db  Major   \n",
       "\n",
       "  time_signature  danceability  energy  speechiness  acousticness  \\\n",
       "0        4 beats         0.748   0.627       0.0639       0.13100   \n",
       "1        4 beats         0.353   0.755       0.7330       0.08220   \n",
       "2        4 beats         0.352   0.911       0.0747       0.00121   \n",
       "3        4 beats         0.620   0.625       0.5530       0.28700   \n",
       "4        4 beats         0.687   0.781       0.0530       0.03610   \n",
       "\n",
       "   instrumentalness  liveness  valence  loudness    tempo  weeks_on_chart  \\\n",
       "0               0.0    0.0852    0.524    -6.029  120.963              17   \n",
       "1               0.0    0.3900    0.437    -6.276  191.153               2   \n",
       "2               0.0    0.0995    0.236    -5.230  148.033             125   \n",
       "3               0.0    0.3140    0.665    -7.438  167.911               2   \n",
       "4               0.0    0.0755    0.688    -4.806   97.014              30   \n",
       "\n",
       "     streams               duration  \n",
       "0  107527761 0 days 00:03:08.491000  \n",
       "1    9944865 0 days 00:03:13.680000  \n",
       "2  512388123 0 days 00:03:42.973000  \n",
       "3   11985346 0 days 00:04:44.856000  \n",
       "4  301860377 0 days 00:03:13.507000  "
      ]
     },
     "execution_count": 42,
     "metadata": {},
     "output_type": "execute_result"
    }
   ],
   "source": [
    "spotify_df['duration'] = pd.to_timedelta(spotify_df['duration_ms'], unit= 'ms')\n",
    "spotify_df = spotify_df.drop('duration_ms', axis = 1)\n",
    "spotify_df.head()"
   ]
  },
  {
   "cell_type": "code",
   "execution_count": 45,
   "id": "e2e7713d-cc1c-419a-9c1d-79d016b691f0",
   "metadata": {},
   "outputs": [
    {
     "data": {
      "text/html": [
       "<div>\n",
       "<style scoped>\n",
       "    .dataframe tbody tr th:only-of-type {\n",
       "        vertical-align: middle;\n",
       "    }\n",
       "\n",
       "    .dataframe tbody tr th {\n",
       "        vertical-align: top;\n",
       "    }\n",
       "\n",
       "    .dataframe thead th {\n",
       "        text-align: right;\n",
       "    }\n",
       "</style>\n",
       "<table border=\"1\" class=\"dataframe\">\n",
       "  <thead>\n",
       "    <tr style=\"text-align: right;\">\n",
       "      <th></th>\n",
       "      <th>id</th>\n",
       "      <th>artist_names</th>\n",
       "      <th>track_name</th>\n",
       "      <th>duration</th>\n",
       "      <th>source</th>\n",
       "      <th>key</th>\n",
       "      <th>mode</th>\n",
       "      <th>time_signature</th>\n",
       "      <th>danceability</th>\n",
       "      <th>energy</th>\n",
       "      <th>speechiness</th>\n",
       "      <th>acousticness</th>\n",
       "      <th>instrumentalness</th>\n",
       "      <th>liveness</th>\n",
       "      <th>valence</th>\n",
       "      <th>loudness</th>\n",
       "      <th>tempo</th>\n",
       "      <th>weeks_on_chart</th>\n",
       "      <th>streams</th>\n",
       "    </tr>\n",
       "  </thead>\n",
       "  <tbody>\n",
       "    <tr>\n",
       "      <th>0</th>\n",
       "      <td>000xQL6tZNLJzIrtIgxqSl</td>\n",
       "      <td>ZAYN, PARTYNEXTDOOR</td>\n",
       "      <td>Still Got Time (feat. PARTYNEXTDOOR)</td>\n",
       "      <td>0 days 00:03:08.491000</td>\n",
       "      <td>RCA Records Label</td>\n",
       "      <td>G</td>\n",
       "      <td>Major</td>\n",
       "      <td>4 beats</td>\n",
       "      <td>0.748</td>\n",
       "      <td>0.627</td>\n",
       "      <td>0.0639</td>\n",
       "      <td>0.13100</td>\n",
       "      <td>0.0</td>\n",
       "      <td>0.0852</td>\n",
       "      <td>0.524</td>\n",
       "      <td>-6.029</td>\n",
       "      <td>120.963</td>\n",
       "      <td>17</td>\n",
       "      <td>107527761</td>\n",
       "    </tr>\n",
       "    <tr>\n",
       "      <th>1</th>\n",
       "      <td>003eoIwxETJujVWmNFMoZy</td>\n",
       "      <td>Alessia Cara</td>\n",
       "      <td>Growing Pains</td>\n",
       "      <td>0 days 00:03:13.680000</td>\n",
       "      <td>Def Jam Recordings</td>\n",
       "      <td>C#/Db</td>\n",
       "      <td>Minor</td>\n",
       "      <td>4 beats</td>\n",
       "      <td>0.353</td>\n",
       "      <td>0.755</td>\n",
       "      <td>0.7330</td>\n",
       "      <td>0.08220</td>\n",
       "      <td>0.0</td>\n",
       "      <td>0.3900</td>\n",
       "      <td>0.437</td>\n",
       "      <td>-6.276</td>\n",
       "      <td>191.153</td>\n",
       "      <td>2</td>\n",
       "      <td>9944865</td>\n",
       "    </tr>\n",
       "    <tr>\n",
       "      <th>2</th>\n",
       "      <td>003vvx7Niy0yvhvHt4a68B</td>\n",
       "      <td>The Killers</td>\n",
       "      <td>Mr. Brightside</td>\n",
       "      <td>0 days 00:03:42.973000</td>\n",
       "      <td>Island Records</td>\n",
       "      <td>C#/Db</td>\n",
       "      <td>Major</td>\n",
       "      <td>4 beats</td>\n",
       "      <td>0.352</td>\n",
       "      <td>0.911</td>\n",
       "      <td>0.0747</td>\n",
       "      <td>0.00121</td>\n",
       "      <td>0.0</td>\n",
       "      <td>0.0995</td>\n",
       "      <td>0.236</td>\n",
       "      <td>-5.230</td>\n",
       "      <td>148.033</td>\n",
       "      <td>125</td>\n",
       "      <td>512388123</td>\n",
       "    </tr>\n",
       "    <tr>\n",
       "      <th>3</th>\n",
       "      <td>00B7TZ0Xawar6NZ00JFomN</td>\n",
       "      <td>Cardi B, Chance the Rapper</td>\n",
       "      <td>Best Life (feat. Chance The Rapper)</td>\n",
       "      <td>0 days 00:04:44.856000</td>\n",
       "      <td>Atlantic/KSR</td>\n",
       "      <td>A</td>\n",
       "      <td>Major</td>\n",
       "      <td>4 beats</td>\n",
       "      <td>0.620</td>\n",
       "      <td>0.625</td>\n",
       "      <td>0.5530</td>\n",
       "      <td>0.28700</td>\n",
       "      <td>0.0</td>\n",
       "      <td>0.3140</td>\n",
       "      <td>0.665</td>\n",
       "      <td>-7.438</td>\n",
       "      <td>167.911</td>\n",
       "      <td>2</td>\n",
       "      <td>11985346</td>\n",
       "    </tr>\n",
       "    <tr>\n",
       "      <th>4</th>\n",
       "      <td>00Blm7zeNqgYLPtW6zg8cj</td>\n",
       "      <td>Post Malone, The Weeknd</td>\n",
       "      <td>One Right Now (with The Weeknd)</td>\n",
       "      <td>0 days 00:03:13.507000</td>\n",
       "      <td>Republic Records</td>\n",
       "      <td>C#/Db</td>\n",
       "      <td>Major</td>\n",
       "      <td>4 beats</td>\n",
       "      <td>0.687</td>\n",
       "      <td>0.781</td>\n",
       "      <td>0.0530</td>\n",
       "      <td>0.03610</td>\n",
       "      <td>0.0</td>\n",
       "      <td>0.0755</td>\n",
       "      <td>0.688</td>\n",
       "      <td>-4.806</td>\n",
       "      <td>97.014</td>\n",
       "      <td>30</td>\n",
       "      <td>301860377</td>\n",
       "    </tr>\n",
       "  </tbody>\n",
       "</table>\n",
       "</div>"
      ],
      "text/plain": [
       "                       id                artist_names  \\\n",
       "0  000xQL6tZNLJzIrtIgxqSl         ZAYN, PARTYNEXTDOOR   \n",
       "1  003eoIwxETJujVWmNFMoZy                Alessia Cara   \n",
       "2  003vvx7Niy0yvhvHt4a68B                 The Killers   \n",
       "3  00B7TZ0Xawar6NZ00JFomN  Cardi B, Chance the Rapper   \n",
       "4  00Blm7zeNqgYLPtW6zg8cj     Post Malone, The Weeknd   \n",
       "\n",
       "                             track_name               duration  \\\n",
       "0  Still Got Time (feat. PARTYNEXTDOOR) 0 days 00:03:08.491000   \n",
       "1                         Growing Pains 0 days 00:03:13.680000   \n",
       "2                        Mr. Brightside 0 days 00:03:42.973000   \n",
       "3   Best Life (feat. Chance The Rapper) 0 days 00:04:44.856000   \n",
       "4       One Right Now (with The Weeknd) 0 days 00:03:13.507000   \n",
       "\n",
       "               source    key   mode time_signature  danceability  energy  \\\n",
       "0   RCA Records Label      G  Major        4 beats         0.748   0.627   \n",
       "1  Def Jam Recordings  C#/Db  Minor        4 beats         0.353   0.755   \n",
       "2      Island Records  C#/Db  Major        4 beats         0.352   0.911   \n",
       "3        Atlantic/KSR      A  Major        4 beats         0.620   0.625   \n",
       "4    Republic Records  C#/Db  Major        4 beats         0.687   0.781   \n",
       "\n",
       "   speechiness  acousticness  instrumentalness  liveness  valence  loudness  \\\n",
       "0       0.0639       0.13100               0.0    0.0852    0.524    -6.029   \n",
       "1       0.7330       0.08220               0.0    0.3900    0.437    -6.276   \n",
       "2       0.0747       0.00121               0.0    0.0995    0.236    -5.230   \n",
       "3       0.5530       0.28700               0.0    0.3140    0.665    -7.438   \n",
       "4       0.0530       0.03610               0.0    0.0755    0.688    -4.806   \n",
       "\n",
       "     tempo  weeks_on_chart    streams  \n",
       "0  120.963              17  107527761  \n",
       "1  191.153               2    9944865  \n",
       "2  148.033             125  512388123  \n",
       "3  167.911               2   11985346  \n",
       "4   97.014              30  301860377  "
      ]
     },
     "execution_count": 45,
     "metadata": {},
     "output_type": "execute_result"
    }
   ],
   "source": [
    "col = spotify_df.pop('duration')\n",
    "spotify_df.insert(3, 'duration', col)\n",
    "spotify_df.head()"
   ]
  },
  {
   "cell_type": "code",
   "execution_count": 46,
   "id": "a8ae9837-eb75-4315-b881-d374a5f14bed",
   "metadata": {},
   "outputs": [],
   "source": [
    "spotify_df.to_csv('cleaned_spotify_top_songs_audio_features.csv', index=False)"
   ]
  }
 ],
 "metadata": {
  "kernelspec": {
   "display_name": "Python 3 (ipykernel)",
   "language": "python",
   "name": "python3"
  },
  "language_info": {
   "codemirror_mode": {
    "name": "ipython",
    "version": 3
   },
   "file_extension": ".py",
   "mimetype": "text/x-python",
   "name": "python",
   "nbconvert_exporter": "python",
   "pygments_lexer": "ipython3",
   "version": "3.11.7"
  }
 },
 "nbformat": 4,
 "nbformat_minor": 5
}
